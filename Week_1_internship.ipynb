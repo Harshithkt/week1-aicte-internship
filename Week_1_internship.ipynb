{
  "nbformat": 4,
  "nbformat_minor": 0,
  "metadata": {
    "colab": {
      "provenance": []
    },
    "kernelspec": {
      "name": "python3",
      "display_name": "Python 3"
    },
    "language_info": {
      "name": "python"
    }
  },
  "cells": [
    {
      "cell_type": "markdown",
      "source": [
        "WEEK 1 CLIMATE AND DISASTER MANAGEMENT SUBMISSION"
      ],
      "metadata": {
        "id": "qC4facWlzUP0"
      }
    },
    {
      "cell_type": "markdown",
      "source": [
        "Problem Statement:  Global climate patterns are changing, leading to unusual temperature fluctuations that may indicate extreme weather events, climate shifts, or environmental hazards. Traditional statistical methods often fail to detect subtle anomalies in large-scale historical climate data, especially when dealing with multiple variables (e.g., land temperature, ocean temperature, regional variations).\n",
        "\n",
        "This project aims to develop a machine learning-based anomaly detection system to identify unusual temperature spikes over time. Using algorithms like Isolation Forest or Autoencoders, the system will analyze historical temperature datasets and flag anomalies that deviate significantly from established climate patterns.\n",
        "\n",
        "---\n",
        "Brief Introduction\n",
        "\n",
        "Climate anomalies, such as unexpected temperature rises or drops, are critical indicators of potential climate-related risks. Detecting these anomalies early helps researchers, policymakers, and disaster management authorities anticipate extreme weather events, improve forecasting, and implement preventive measures.\n",
        "\n",
        "This project leverages machine learning techniques to analyze historical temperature datasets (e.g., NASA GISTEMP, NOAA, or Kaggle's Global Temperature Anomalies dataset) and detect abnormal patterns. By applying anomaly detection methods, the system can identify temperature shifts that exceed normal variability, supporting climate monitoring and decision-making processes.\n",
        "\n",
        "---\n",
        "\n",
        "\n",
        "\n"
      ],
      "metadata": {
        "id": "5NGrjQdVx9cx"
      }
    },
    {
      "cell_type": "code",
      "source": [
        "import pandas as pd"
      ],
      "metadata": {
        "id": "cz-cnETSyAqD"
      },
      "execution_count": 1,
      "outputs": []
    },
    {
      "cell_type": "code",
      "source": [
        "df = pd.read_csv(\"/content/hadcrut-monthly-ns-avg.csv\")"
      ],
      "metadata": {
        "id": "kcNcL9fDzedg"
      },
      "execution_count": 3,
      "outputs": []
    },
    {
      "cell_type": "code",
      "source": [
        "print(df.head())"
      ],
      "metadata": {
        "colab": {
          "base_uri": "https://localhost:8080/"
        },
        "id": "mY8hco9TzhKM",
        "outputId": "0ebdf882-9629-46be-9781-fd8a1c1164be"
      },
      "execution_count": 4,
      "outputs": [
        {
          "output_type": "stream",
          "name": "stdout",
          "text": [
            "   1900-01-01  -0.266  -0.343  -0.200  -0.371  -0.160  -0.543  0.012  -0.399  \\\n",
            "0  1900-02-01  -0.172  -0.261  -0.105  -0.279  -0.065  -0.406  0.062  -0.312   \n",
            "1  1900-03-01  -0.285  -0.368  -0.214  -0.389  -0.182  -0.494 -0.076  -0.420   \n",
            "2  1900-04-01  -0.261  -0.328  -0.188  -0.372  -0.150  -0.447 -0.075  -0.398   \n",
            "3  1900-05-01  -0.273  -0.372  -0.201  -0.381  -0.164  -0.464 -0.081  -0.409   \n",
            "4  1900-06-01  -0.180  -0.274  -0.104  -0.289  -0.071  -0.354 -0.006  -0.314   \n",
            "\n",
            "   -0.138  -0.574  0.039  \n",
            "0  -0.043  -0.447  0.094  \n",
            "1  -0.158  -0.535 -0.040  \n",
            "2  -0.126  -0.492 -0.031  \n",
            "3  -0.142  -0.507 -0.041  \n",
            "4  -0.047  -0.399  0.040  \n"
          ]
        }
      ]
    },
    {
      "cell_type": "code",
      "source": [
        "print(df.info())"
      ],
      "metadata": {
        "colab": {
          "base_uri": "https://localhost:8080/"
        },
        "id": "GJ750DCqzo6y",
        "outputId": "40aeb5a3-b03a-4cbb-ceee-ead0d655f705"
      },
      "execution_count": 5,
      "outputs": [
        {
          "output_type": "stream",
          "name": "stdout",
          "text": [
            "<class 'pandas.core.frame.DataFrame'>\n",
            "RangeIndex: 1463 entries, 0 to 1462\n",
            "Data columns (total 12 columns):\n",
            " #   Column      Non-Null Count  Dtype  \n",
            "---  ------      --------------  -----  \n",
            " 0   1900-01-01  1463 non-null   object \n",
            " 1   -0.266      1463 non-null   float64\n",
            " 2   -0.343      1463 non-null   float64\n",
            " 3   -0.200      1463 non-null   float64\n",
            " 4   -0.371      1463 non-null   float64\n",
            " 5   -0.160      1463 non-null   float64\n",
            " 6   -0.543      1463 non-null   float64\n",
            " 7   0.012       1463 non-null   float64\n",
            " 8   -0.399      1463 non-null   float64\n",
            " 9   -0.138      1463 non-null   float64\n",
            " 10  -0.574      1463 non-null   float64\n",
            " 11  0.039       1463 non-null   float64\n",
            "dtypes: float64(11), object(1)\n",
            "memory usage: 137.3+ KB\n",
            "None\n"
          ]
        }
      ]
    },
    {
      "cell_type": "code",
      "source": [
        "print(df.describe())"
      ],
      "metadata": {
        "colab": {
          "base_uri": "https://localhost:8080/"
        },
        "id": "Yx1ceeCJzwOm",
        "outputId": "5d76b3be-579d-4b5a-88de-323ccdf30ec4"
      },
      "execution_count": 6,
      "outputs": [
        {
          "output_type": "stream",
          "name": "stdout",
          "text": [
            "            -0.266       -0.343       -0.200       -0.371       -0.160  \\\n",
            "count  1463.000000  1463.000000  1463.000000  1463.000000  1463.000000   \n",
            "mean      0.020379    -0.029266     0.067374    -0.036178     0.076912   \n",
            "std       0.338737     0.349277     0.331018     0.356409     0.321777   \n",
            "min      -0.832000    -0.910000    -0.745000    -0.926000    -0.738000   \n",
            "25%      -0.214500    -0.274500    -0.158500    -0.289000    -0.143000   \n",
            "50%      -0.029000    -0.067000     0.015000    -0.084000     0.031000   \n",
            "75%       0.221000     0.182500     0.254000     0.177000     0.261500   \n",
            "max       1.111000     1.062000     1.155000     1.084000     1.138000   \n",
            "\n",
            "            -0.543        0.012       -0.399       -0.138       -0.574  \\\n",
            "count  1463.000000  1463.000000  1463.000000  1463.000000  1463.000000   \n",
            "mean     -0.139973     0.180735    -0.055444     0.095488    -0.158206   \n",
            "std       0.353749     0.327718     0.357780     0.321440     0.360539   \n",
            "min      -1.024000    -0.640000    -0.952000    -0.709000    -1.058000   \n",
            "25%      -0.383000    -0.043500    -0.312500    -0.120000    -0.409000   \n",
            "50%      -0.187000     0.137000    -0.098000     0.049000    -0.200000   \n",
            "75%       0.075500     0.363000     0.163500     0.276000     0.065500   \n",
            "max       0.997000     1.232000     1.057000     1.164000     0.986000   \n",
            "\n",
            "             0.039  \n",
            "count  1463.000000  \n",
            "mean      0.198725  \n",
            "std       0.321623  \n",
            "min      -0.604000  \n",
            "25%      -0.017500  \n",
            "50%       0.156000  \n",
            "75%       0.378500  \n",
            "max       1.239000  \n"
          ]
        }
      ]
    },
    {
      "cell_type": "code",
      "source": [
        "df.isnull().sum()"
      ],
      "metadata": {
        "colab": {
          "base_uri": "https://localhost:8080/",
          "height": 460
        },
        "id": "LJdhkjujz0Jn",
        "outputId": "f282923d-f6bb-4945-8804-fa54a9344000"
      },
      "execution_count": 7,
      "outputs": [
        {
          "output_type": "execute_result",
          "data": {
            "text/plain": [
              "1900-01-01    0\n",
              "-0.266        0\n",
              "-0.343        0\n",
              "-0.200        0\n",
              "-0.371        0\n",
              "-0.160        0\n",
              "-0.543        0\n",
              "0.012         0\n",
              "-0.399        0\n",
              "-0.138        0\n",
              "-0.574        0\n",
              "0.039         0\n",
              "dtype: int64"
            ],
            "text/html": [
              "<div>\n",
              "<style scoped>\n",
              "    .dataframe tbody tr th:only-of-type {\n",
              "        vertical-align: middle;\n",
              "    }\n",
              "\n",
              "    .dataframe tbody tr th {\n",
              "        vertical-align: top;\n",
              "    }\n",
              "\n",
              "    .dataframe thead th {\n",
              "        text-align: right;\n",
              "    }\n",
              "</style>\n",
              "<table border=\"1\" class=\"dataframe\">\n",
              "  <thead>\n",
              "    <tr style=\"text-align: right;\">\n",
              "      <th></th>\n",
              "      <th>0</th>\n",
              "    </tr>\n",
              "  </thead>\n",
              "  <tbody>\n",
              "    <tr>\n",
              "      <th>1900-01-01</th>\n",
              "      <td>0</td>\n",
              "    </tr>\n",
              "    <tr>\n",
              "      <th>-0.266</th>\n",
              "      <td>0</td>\n",
              "    </tr>\n",
              "    <tr>\n",
              "      <th>-0.343</th>\n",
              "      <td>0</td>\n",
              "    </tr>\n",
              "    <tr>\n",
              "      <th>-0.200</th>\n",
              "      <td>0</td>\n",
              "    </tr>\n",
              "    <tr>\n",
              "      <th>-0.371</th>\n",
              "      <td>0</td>\n",
              "    </tr>\n",
              "    <tr>\n",
              "      <th>-0.160</th>\n",
              "      <td>0</td>\n",
              "    </tr>\n",
              "    <tr>\n",
              "      <th>-0.543</th>\n",
              "      <td>0</td>\n",
              "    </tr>\n",
              "    <tr>\n",
              "      <th>0.012</th>\n",
              "      <td>0</td>\n",
              "    </tr>\n",
              "    <tr>\n",
              "      <th>-0.399</th>\n",
              "      <td>0</td>\n",
              "    </tr>\n",
              "    <tr>\n",
              "      <th>-0.138</th>\n",
              "      <td>0</td>\n",
              "    </tr>\n",
              "    <tr>\n",
              "      <th>-0.574</th>\n",
              "      <td>0</td>\n",
              "    </tr>\n",
              "    <tr>\n",
              "      <th>0.039</th>\n",
              "      <td>0</td>\n",
              "    </tr>\n",
              "  </tbody>\n",
              "</table>\n",
              "</div><br><label><b>dtype:</b> int64</label>"
            ]
          },
          "metadata": {},
          "execution_count": 7
        }
      ]
    },
    {
      "cell_type": "code",
      "source": [],
      "metadata": {
        "id": "9iUS3Bfk0OZ7"
      },
      "execution_count": null,
      "outputs": []
    }
  ]
}